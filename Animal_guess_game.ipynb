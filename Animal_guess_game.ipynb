{
 "cells": [
  {
   "cell_type": "code",
   "execution_count": 1,
   "id": "e9e18474-0ed1-403e-a60a-502329a1997e",
   "metadata": {},
   "outputs": [],
   "source": [
    "import random"
   ]
  },
  {
   "cell_type": "code",
   "execution_count": 2,
   "id": "7c976498-fb21-46eb-9d0e-4d7071ae60cf",
   "metadata": {},
   "outputs": [
    {
     "name": "stdout",
     "output_type": "stream",
     "text": [
      "🐾 Welcome to the Ultimate Animal Guessing Game! 🐾\n",
      "Guess the animal based on the clue!\n"
     ]
    }
   ],
   "source": [
    "#welcome the player and create a dictionary\n",
    "print(\"🐾 Welcome to the Ultimate Animal Guessing Game! 🐾\")\n",
    "print(\"Guess the animal based on the clue!\")\n",
    "\n",
    "# Animal clues stored in a dictionary\n",
    "animal_clues = {\n",
    "    \"I am the king of the jungle.\": \"lion\",\n",
    "    \"I am the largest land animal.\": \"elephant\",\n",
    "    \"I hiss and slither on the ground.\": \"snake\",\n",
    "    \"I can fly, but I am not a bird.\": \"bat\",\n",
    "    \"I am known for my long neck.\": \"giraffe\",\n",
    "    \"I hop and have a pouch.\": \"kangaroo\",\n",
    "    \"I am black and white and eat bamboo.\": \"panda\",\n",
    "    \"I am known for my colorful feathers and loud squawk.\": \"parrot\",\n",
    "    \"I live in water, but I am not a fish.\": \"dolphin\",\n",
    "    \"I am small, brown, and like to gather nuts.\": \"squirrel\"\n",
    "}"
   ]
  },
  {
   "cell_type": "code",
   "execution_count": 5,
   "id": "1dbe12a9-42cb-40c8-b481-19b3a76ce55f",
   "metadata": {},
   "outputs": [
    {
     "name": "stdout",
     "output_type": "stream",
     "text": [
      "\n",
      "Clue: I am black and white and eat bamboo.\n"
     ]
    },
    {
     "name": "stdin",
     "output_type": "stream",
     "text": [
      "Your answer:  panda\n"
     ]
    },
    {
     "name": "stdout",
     "output_type": "stream",
     "text": [
      "🎉 Correct! You guessed it right!\n"
     ]
    },
    {
     "name": "stdin",
     "output_type": "stream",
     "text": [
      "\n",
      "Do you want to play again? (yes/no):  yes\n"
     ]
    },
    {
     "name": "stdout",
     "output_type": "stream",
     "text": [
      "\n",
      "Clue: I am the king of the jungle.\n"
     ]
    },
    {
     "name": "stdin",
     "output_type": "stream",
     "text": [
      "Your answer:  lion\n"
     ]
    },
    {
     "name": "stdout",
     "output_type": "stream",
     "text": [
      "🎉 Correct! You guessed it right!\n"
     ]
    },
    {
     "name": "stdin",
     "output_type": "stream",
     "text": [
      "\n",
      "Do you want to play again? (yes/no):  yes\n"
     ]
    },
    {
     "name": "stdout",
     "output_type": "stream",
     "text": [
      "\n",
      "Clue: I am small, brown, and like to gather nuts.\n"
     ]
    },
    {
     "name": "stdin",
     "output_type": "stream",
     "text": [
      "Your answer:  squirrel\n"
     ]
    },
    {
     "name": "stdout",
     "output_type": "stream",
     "text": [
      "🎉 Correct! You guessed it right!\n"
     ]
    },
    {
     "name": "stdin",
     "output_type": "stream",
     "text": [
      "\n",
      "Do you want to play again? (yes/no):  yes\n"
     ]
    },
    {
     "name": "stdout",
     "output_type": "stream",
     "text": [
      "\n",
      "Clue: I can fly, but I am not a bird.\n"
     ]
    },
    {
     "name": "stdin",
     "output_type": "stream",
     "text": [
      "Your answer:  chicken\n"
     ]
    },
    {
     "name": "stdout",
     "output_type": "stream",
     "text": [
      "❌ Oops! That’s not correct. Hint: It starts with 'B__'.\n"
     ]
    },
    {
     "name": "stdin",
     "output_type": "stream",
     "text": [
      "\n",
      "Do you want to play again? (yes/no):  yes\n"
     ]
    },
    {
     "name": "stdout",
     "output_type": "stream",
     "text": [
      "\n",
      "Clue: I am black and white and eat bamboo.\n"
     ]
    },
    {
     "name": "stdin",
     "output_type": "stream",
     "text": [
      "Your answer:  panda\n"
     ]
    },
    {
     "name": "stdout",
     "output_type": "stream",
     "text": [
      "🎉 Correct! You guessed it right!\n"
     ]
    },
    {
     "name": "stdin",
     "output_type": "stream",
     "text": [
      "\n",
      "Do you want to play again? (yes/no):  yes\n"
     ]
    },
    {
     "name": "stdout",
     "output_type": "stream",
     "text": [
      "\n",
      "Clue: I am known for my long neck.\n"
     ]
    },
    {
     "name": "stdin",
     "output_type": "stream",
     "text": [
      "Your answer:  girrafe\n"
     ]
    },
    {
     "name": "stdout",
     "output_type": "stream",
     "text": [
      "❌ Oops! That’s not correct. Hint: It starts with 'G______'.\n"
     ]
    },
    {
     "name": "stdin",
     "output_type": "stream",
     "text": [
      "\n",
      "Do you want to play again? (yes/no):  yes\n"
     ]
    },
    {
     "name": "stdout",
     "output_type": "stream",
     "text": [
      "\n",
      "Clue: I am small, brown, and like to gather nuts.\n"
     ]
    },
    {
     "name": "stdin",
     "output_type": "stream",
     "text": [
      "Your answer:  squirrel\n"
     ]
    },
    {
     "name": "stdout",
     "output_type": "stream",
     "text": [
      "🎉 Correct! You guessed it right!\n"
     ]
    },
    {
     "name": "stdin",
     "output_type": "stream",
     "text": [
      "\n",
      "Do you want to play again? (yes/no):  yes\n"
     ]
    },
    {
     "name": "stdout",
     "output_type": "stream",
     "text": [
      "\n",
      "Clue: I hop and have a pouch.\n"
     ]
    },
    {
     "name": "stdin",
     "output_type": "stream",
     "text": [
      "Your answer:  kangaroo\n"
     ]
    },
    {
     "name": "stdout",
     "output_type": "stream",
     "text": [
      "🎉 Correct! You guessed it right!\n"
     ]
    },
    {
     "name": "stdin",
     "output_type": "stream",
     "text": [
      "\n",
      "Do you want to play again? (yes/no):  yes\n"
     ]
    },
    {
     "name": "stdout",
     "output_type": "stream",
     "text": [
      "\n",
      "Clue: I hiss and slither on the ground.\n"
     ]
    },
    {
     "name": "stdin",
     "output_type": "stream",
     "text": [
      "Your answer:  snake\n"
     ]
    },
    {
     "name": "stdout",
     "output_type": "stream",
     "text": [
      "🎉 Correct! You guessed it right!\n"
     ]
    },
    {
     "name": "stdin",
     "output_type": "stream",
     "text": [
      "\n",
      "Do you want to play again? (yes/no):  yes\n"
     ]
    },
    {
     "name": "stdout",
     "output_type": "stream",
     "text": [
      "\n",
      "Clue: I can fly, but I am not a bird.\n"
     ]
    },
    {
     "name": "stdin",
     "output_type": "stream",
     "text": [
      "Your answer:  butterfly\n"
     ]
    },
    {
     "name": "stdout",
     "output_type": "stream",
     "text": [
      "❌ Oops! That’s not correct. Hint: It starts with 'B__'.\n"
     ]
    },
    {
     "name": "stdin",
     "output_type": "stream",
     "text": [
      "\n",
      "Do you want to play again? (yes/no):  yes\n"
     ]
    },
    {
     "name": "stdout",
     "output_type": "stream",
     "text": [
      "\n",
      "Clue: I am the king of the jungle.\n"
     ]
    },
    {
     "name": "stdin",
     "output_type": "stream",
     "text": [
      "Your answer:  lion\n"
     ]
    },
    {
     "name": "stdout",
     "output_type": "stream",
     "text": [
      "🎉 Correct! You guessed it right!\n"
     ]
    },
    {
     "name": "stdin",
     "output_type": "stream",
     "text": [
      "\n",
      "Do you want to play again? (yes/no):  yes\n"
     ]
    },
    {
     "name": "stdout",
     "output_type": "stream",
     "text": [
      "\n",
      "Clue: I am small, brown, and like to gather nuts.\n"
     ]
    },
    {
     "name": "stdin",
     "output_type": "stream",
     "text": [
      "Your answer:  squirrel\n"
     ]
    },
    {
     "name": "stdout",
     "output_type": "stream",
     "text": [
      "🎉 Correct! You guessed it right!\n"
     ]
    },
    {
     "name": "stdin",
     "output_type": "stream",
     "text": [
      "\n",
      "Do you want to play again? (yes/no):  yes\n"
     ]
    },
    {
     "name": "stdout",
     "output_type": "stream",
     "text": [
      "\n",
      "Clue: I live in water, but I am not a fish.\n"
     ]
    },
    {
     "name": "stdin",
     "output_type": "stream",
     "text": [
      "Your answer:  crab\n"
     ]
    },
    {
     "name": "stdout",
     "output_type": "stream",
     "text": [
      "❌ Oops! That’s not correct. Hint: It starts with 'D______'.\n"
     ]
    },
    {
     "name": "stdin",
     "output_type": "stream",
     "text": [
      "\n",
      "Do you want to play again? (yes/no):  no\n"
     ]
    },
    {
     "name": "stdout",
     "output_type": "stream",
     "text": [
      "Thanks for playing! 🐾 Your final score is: 9\n"
     ]
    }
   ],
   "source": [
    "score = 0  # Track correct guesses\n",
    "\n",
    "# Main game loop\n",
    "while True:\n",
    "    # Randomly pick a clue\n",
    "    clue, answer = random.choice(list(animal_clues.items()))\n",
    "    print(f\"\\nClue: {clue}\")\n",
    "    guess = input(\"Your answer: \").strip().lower()\n",
    "\n",
    "    if guess == answer:\n",
    "        print(\"🎉 Correct! You guessed it right!\")\n",
    "        score += 1  # Increase score for correct answer\n",
    "    else:\n",
    "        # Provide a hint by showing the first letter\n",
    "        hint = answer[0].upper() + (\"_\" * (len(answer) - 1))\n",
    "        print(f\"❌ Oops! That’s not correct. Hint: It starts with '{hint}'.\")\n",
    "\n",
    "    # Ask to play again\n",
    "    try_again = input(\"\\nDo you want to play again? (yes/no): \").strip().lower()\n",
    "    if try_again != \"yes\":\n",
    "        print(f\"Thanks for playing! 🐾 Your final score is: {score}\")\n",
    "        break\n"
   ]
  },
  {
   "cell_type": "code",
   "execution_count": null,
   "id": "e824d0bc-6d41-4f51-886f-67d8a9b2d334",
   "metadata": {},
   "outputs": [],
   "source": []
  },
  {
   "cell_type": "code",
   "execution_count": null,
   "id": "8e136695-81aa-414f-82ad-6cbb682809a1",
   "metadata": {},
   "outputs": [],
   "source": [
    "#pip install flask"
   ]
  },
  {
   "cell_type": "code",
   "execution_count": null,
   "id": "9b404932-ff15-4bb6-a58f-1fd445f9a292",
   "metadata": {},
   "outputs": [],
   "source": [
    "# from flask import Flask, render_template, request\n",
    "# import random\n",
    "\n",
    "# app = Flask(__name__)\n",
    "\n",
    "# # List of animal clues as tuples (clue, answer)\n",
    "# animal_clues = [\n",
    "#     (\"I am the king of the jungle.\", \"lion\"),\n",
    "#     (\"I am the largest land animal.\", \"elephant\"),\n",
    "#     (\"I hiss and slither on the ground.\", \"snake\"),\n",
    "#     (\"I can fly, but I am not a bird.\", \"bat\"),\n",
    "#     (\"I am known for my long neck.\", \"giraffe\"),\n",
    "#     (\"I hop and have a pouch.\", \"kangaroo\"),\n",
    "#     (\"I am black and white and eat bamboo.\", \"panda\"),\n",
    "#     (\"I am known for my colorful feathers and loud squawk.\", \"parrot\"),\n",
    "#     (\"I live in water, but I am not a fish.\", \"dolphin\"),\n",
    "#     (\"I am small, brown, and like to gather nuts.\", \"squirrel\"),\n",
    "#     (\"I live in the Arctic and have a thick white coat.\", \"polar bear\"),\n",
    "#     (\"I am a large bird, but I can’t fly.\", \"ostrich\"),\n",
    "#     (\"I am a nocturnal mammal that sleeps in caves.\", \"bat\"),\n",
    "#     (\"I am famous for my trunk and big ears.\", \"elephant\"),\n",
    "#     (\"I can change colors and blend into my environment.\", \"chameleon\"),\n",
    "#     (\"I am the fastest land animal.\", \"cheetah\"),\n",
    "#     (\"I live in a hive and make honey.\", \"bee\"),\n",
    "#     (\"I am a large mammal and live in the ocean.\", \"whale\"),\n",
    "#     (\"I have a mane and I roar loudly.\", \"lion\"),\n",
    "#     (\"I have eight legs and spin webs.\", \"spider\"),\n",
    "#     (\"I am known for being the man’s best friend.\", \"dog\"),\n",
    "#     (\"I love to climb trees and eat bananas.\", \"monkey\"),\n",
    "#     (\"I can swim and I am black and white.\", \"penguin\"),\n",
    "#     (\"I can change my shape and grow new limbs.\", \"starfish\"),\n",
    "#     (\"I am an insect that makes a buzzing sound.\", \"bee\"),\n",
    "#     (\"I am the largest fish in the ocean.\", \"whale shark\"),\n",
    "#     (\"I am a bird that mimics sounds and words.\", \"parrot\"),\n",
    "#     (\"I am very slow and have a hard shell.\", \"turtle\"),\n",
    "#     (\"I love to eat carrots and hop around.\", \"rabbit\"),\n",
    "#     (\"I live in a pride and hunt in groups.\", \"lion\"),\n",
    "#     (\"I am covered with spines and can roll into a ball.\", \"hedgehog\"),\n",
    "#     (\"I live in the water and can grow up to 100 years old.\", \"turtle\"),\n",
    "#     (\"I love to eat ants and termites.\", \"anteater\"),\n",
    "#     (\"I am known for my long tusks and big ears.\", \"elephant\")\n",
    "# ]\n",
    "\n",
    "# score = 10  # Start the score from 10\n",
    "\n",
    "# @app.route(\"/\", methods=[\"GET\", \"POST\"])\n",
    "# def game():\n",
    "#     global score\n",
    "#     clue, answer = random.choice(animal_clues)  # Randomly choose a clue and answer\n",
    "#     if request.method == \"POST\":\n",
    "#         guess = request.form[\"guess\"].strip().lower()\n",
    "\n",
    "#         if guess == answer:\n",
    "#             message = \"🎉 Correct! You guessed it right!\"\n",
    "#             score += 10\n",
    "#         else:\n",
    "#             hint = answer[0].upper() + (\"_\" * (len(answer) - 1))\n",
    "#             message = f\"❌ Oops! That’s not correct. Hint: It starts with '{hint}'.\"\n",
    "\n",
    "#         return render_template(\"game.html\", clue=clue, message=message, score=score)\n",
    "\n",
    "#     return render_template(\"game.html\", clue=clue, score=score)\n",
    "\n",
    "# if __name__ == \"__main__\":\n",
    "#     app.run(debug=True)\n"
   ]
  },
  {
   "cell_type": "code",
   "execution_count": null,
   "id": "49e04217-3b92-4c66-a660-68c0ba4f2253",
   "metadata": {},
   "outputs": [],
   "source": [
    "# <!DOCTYPE html>\n",
    "# <html lang=\"en\">\n",
    "# <head>\n",
    "#     <meta charset=\"UTF-8\">\n",
    "#     <meta name=\"viewport\" content=\"width=device-width, initial-scale=1.0\">\n",
    "#     <title>Animal Guessing Game</title>\n",
    "#     <style>\n",
    "#         body { font-family: Arial, sans-serif; }\n",
    "#         .container { max-width: 500px; margin: auto; padding: 20px; text-align: center; }\n",
    "#         h1 { color: #4CAF50; }\n",
    "#         input[type=\"text\"] { padding: 10px; width: 80%; margin: 10px 0; }\n",
    "#         button { padding: 10px 20px; background-color: #4CAF50; color: white; border: none; cursor: pointer; }\n",
    "#         button:hover { background-color: #45a049; }\n",
    "#         .score { font-size: 20px; font-weight: bold; }\n",
    "#         .message { margin-top: 20px; color: #f44336; font-size: 18px; }\n",
    "#         .hint { margin-top: 10px; font-size: 16px; }\n",
    "#     </style>\n",
    "# </head>\n",
    "# <body>\n",
    "#     <div class=\"container\">\n",
    "#         <h1>Animal Guessing Game</h1>\n",
    "#         <p class=\"score\">Current Score: {{ score }}</p>\n",
    "#         <p>{{ clue }}</p>\n",
    "\n",
    "#         <form method=\"POST\">\n",
    "#             <input type=\"text\" name=\"guess\" placeholder=\"Enter your guess\" required>\n",
    "#             <button type=\"submit\">Submit Guess</button>\n",
    "#         </form>\n",
    "\n",
    "#         {% if message %}\n",
    "#             <p class=\"message\">{{ message }}</p>\n",
    "#         {% endif %}\n",
    "#     </div>\n",
    "# </body>\n",
    "# </html>\n"
   ]
  },
  {
   "cell_type": "code",
   "execution_count": null,
   "id": "6f021f27-05f3-486f-82f7-850af39a6305",
   "metadata": {},
   "outputs": [],
   "source": [
    "# python app.py"
   ]
  },
  {
   "cell_type": "code",
   "execution_count": 1,
   "id": "16bd7e19-c2e5-41be-8720-58c9511e0a25",
   "metadata": {},
   "outputs": [
    {
     "name": "stdout",
     "output_type": "stream",
     "text": [
      "2 6\n"
     ]
    }
   ],
   "source": [
    "def add(a,b):\n",
    "    return a+b\n",
    "print(2,6)"
   ]
  },
  {
   "cell_type": "code",
   "execution_count": null,
   "id": "3f8454fc-f219-4bb3-a9ee-802c1494e226",
   "metadata": {},
   "outputs": [],
   "source": []
  },
  {
   "cell_type": "code",
   "execution_count": null,
   "id": "a8f6e076-9bd1-4a67-b9f7-71f46f077769",
   "metadata": {},
   "outputs": [],
   "source": []
  }
 ],
 "metadata": {
  "kernelspec": {
   "display_name": "Python 3 (ipykernel)",
   "language": "python",
   "name": "python3"
  },
  "language_info": {
   "codemirror_mode": {
    "name": "ipython",
    "version": 3
   },
   "file_extension": ".py",
   "mimetype": "text/x-python",
   "name": "python",
   "nbconvert_exporter": "python",
   "pygments_lexer": "ipython3",
   "version": "3.12.7"
  }
 },
 "nbformat": 4,
 "nbformat_minor": 5
}
